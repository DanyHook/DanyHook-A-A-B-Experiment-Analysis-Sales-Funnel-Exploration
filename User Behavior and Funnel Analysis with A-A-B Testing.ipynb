{
 "cells": [
  {
   "cell_type": "markdown",
   "metadata": {},
   "source": [
    "<div class=\"alert alert-block alert-success\">\n",
    "<b>User Behavior and Funnel Analysis with A/A/B Testing</b> <a class=\"tocSkip\"></a>\n",
    "\n",
    "## 🧾 Project Summary\n",
    "\n",
    "In this project, I worked with a startup that sells food products, where the main objective was to investigate **user behavior within the company’s mobile application**.\n",
    "\n",
    "The first step was to analyze the **sales funnel** to understand how users reach the purchase stage. This included identifying how many users actually make it to this stage, how many get stuck in earlier stages, and pinpointing where the greatest drop-offs occur.\n",
    "\n",
    "Additionally, I performed an **A/A/B experiment analysis** to assess the impact of a proposed **font change** within the app interface. While the design team proposed changing all app fonts, management was concerned that the new design might feel intimidating to users. To make a data-driven decision, an A/A/B test was conducted.\n",
    "\n",
    "In the experiment, users were divided into three groups:  \n",
    "- **Two control groups (A/A)** retained the original font.  \n",
    "- **One test group (B)** received the new font.  \n",
    "The goal was to determine which font style led to better user engagement and behavior.\n",
    "\n",
    "Using two control groups (A/A) provided significant advantages. It allowed us to verify the **consistency and reliability** of the test by confirming that both control groups behaved similarly. Any significant differences between them could reveal underlying factors that might bias the results. This also helped estimate the time and data volume needed for future experiments.\n",
    "\n",
    "For the analysis, I used the **same dataset for both the general behavior study and the A/A/B experiment**, following standard industry practices. In real-world projects, experiments are often ongoing, and analytics teams assess product performance holistically, regardless of experiment participation.\n",
    "\n",
    "This project allowed me to combine **funnel analytics**, **experimental validation**, and **statistical rigor** to support product and design decisions with data.\n",
    "</div>\n"
   ]
  },
  {
   "cell_type": "code",
   "execution_count": 1,
   "metadata": {},
   "outputs": [
    {
     "name": "stdout",
     "output_type": "stream",
     "text": [
      "Libraries loaded successfully\n"
     ]
    }
   ],
   "source": [
    "import pandas as pd\n",
    "import numpy as np\n",
    "import matplotlib.pyplot as plt\n",
    "import seaborn as sns\n",
    "from scipy import stats\n",
    "\n",
    "print(\"Libraries loaded successfully\")"
   ]
  },
  {
   "cell_type": "code",
   "execution_count": 5,
   "metadata": {},
   "outputs": [
    {
     "name": "stdout",
     "output_type": "stream",
     "text": [
      "File loaded successfully\n"
     ]
    },
    {
     "data": {
      "text/html": [
       "<div>\n",
       "<style scoped>\n",
       "    .dataframe tbody tr th:only-of-type {\n",
       "        vertical-align: middle;\n",
       "    }\n",
       "\n",
       "    .dataframe tbody tr th {\n",
       "        vertical-align: top;\n",
       "    }\n",
       "\n",
       "    .dataframe thead th {\n",
       "        text-align: right;\n",
       "    }\n",
       "</style>\n",
       "<table border=\"1\" class=\"dataframe\">\n",
       "  <thead>\n",
       "    <tr style=\"text-align: right;\">\n",
       "      <th></th>\n",
       "      <th>EventName</th>\n",
       "      <th>DeviceIDHash</th>\n",
       "      <th>EventTimestamp</th>\n",
       "      <th>ExpId</th>\n",
       "    </tr>\n",
       "  </thead>\n",
       "  <tbody>\n",
       "    <tr>\n",
       "      <th>0</th>\n",
       "      <td>MainScreenAppear</td>\n",
       "      <td>4575588528974610257</td>\n",
       "      <td>1564029816</td>\n",
       "      <td>246</td>\n",
       "    </tr>\n",
       "    <tr>\n",
       "      <th>1</th>\n",
       "      <td>MainScreenAppear</td>\n",
       "      <td>7416695313311560658</td>\n",
       "      <td>1564053102</td>\n",
       "      <td>246</td>\n",
       "    </tr>\n",
       "    <tr>\n",
       "      <th>2</th>\n",
       "      <td>PaymentScreenSuccessful</td>\n",
       "      <td>3518123091307005509</td>\n",
       "      <td>1564054127</td>\n",
       "      <td>248</td>\n",
       "    </tr>\n",
       "    <tr>\n",
       "      <th>3</th>\n",
       "      <td>CartScreenAppear</td>\n",
       "      <td>3518123091307005509</td>\n",
       "      <td>1564054127</td>\n",
       "      <td>248</td>\n",
       "    </tr>\n",
       "    <tr>\n",
       "      <th>4</th>\n",
       "      <td>PaymentScreenSuccessful</td>\n",
       "      <td>6217807653094995999</td>\n",
       "      <td>1564055322</td>\n",
       "      <td>248</td>\n",
       "    </tr>\n",
       "  </tbody>\n",
       "</table>\n",
       "</div>"
      ],
      "text/plain": [
       "                 EventName         DeviceIDHash  EventTimestamp  ExpId\n",
       "0         MainScreenAppear  4575588528974610257      1564029816    246\n",
       "1         MainScreenAppear  7416695313311560658      1564053102    246\n",
       "2  PaymentScreenSuccessful  3518123091307005509      1564054127    248\n",
       "3         CartScreenAppear  3518123091307005509      1564054127    248\n",
       "4  PaymentScreenSuccessful  6217807653094995999      1564055322    248"
      ]
     },
     "execution_count": 5,
     "metadata": {},
     "output_type": "execute_result"
    }
   ],
   "source": [
    "# Load the file with tab separator (\\t)\n",
    "data = pd.read_csv(\"datasets/logs_exp_us.csv\", sep=\"\\t\")\n",
    "\n",
    "# Confirm that the file was loaded successfully\n",
    "print(\"File loaded successfully\")\n",
    "\n",
    "# Display the first rows of the DataFrame\n",
    "data.head()"
   ]
  },
  {
   "cell_type": "markdown",
   "metadata": {},
   "source": [
    "El archivo parece estar mal formateado. Todas las columnas están agrupadas en una sola columna debido al uso de tabulaciones como separador en lugar de comas."
   ]
  },
  {
   "cell_type": "code",
   "execution_count": 6,
   "metadata": {},
   "outputs": [
    {
     "name": "stdout",
     "output_type": "stream",
     "text": [
      "Index(['event_name', 'user_id', 'timestamp', 'experiment_id'], dtype='object')\n"
     ]
    }
   ],
   "source": [
    "# Rename columns for convenience\n",
    "data.rename(columns={\n",
    "    'EventName': 'event_name',\n",
    "    'DeviceIDHash': 'user_id',\n",
    "    'EventTimestamp': 'timestamp',\n",
    "    'ExpId': 'experiment_id'\n",
    "}, inplace=True)\n",
    "print(data.columns)"
   ]
  },
  {
   "cell_type": "markdown",
   "metadata": {},
   "source": [
    "Now the data is properly structured. The dataset contains the following columns:\n",
    "\n",
    "- **EventName**: Name of the event performed by the user.  \n",
    "- **DeviceIDHash**: Unique user identifier.  \n",
    "- **EventTimestamp**: Timestamp of the event (in Unix format).  \n",
    "- **ExpId**: Experiment identifier (246 and 247 are control groups, 248 is the test group).\n",
    "\n",
    "I will perform the following steps to prepare the data for analysis:\n",
    "\n",
    "1. Rename the column names to a more convenient format.  \n",
    "2. Convert the timestamp column to a datetime format.  \n",
    "3. Create an additional column with only the date to facilitate time-based analysis."
   ]
  },
  {
   "cell_type": "code",
   "execution_count": 7,
   "metadata": {},
   "outputs": [
    {
     "name": "stdout",
     "output_type": "stream",
     "text": [
      "Index(['event_name', 'user_id', 'timestamp', 'experiment_id', 'datetime',\n",
      "       'date'],\n",
      "      dtype='object')\n"
     ]
    }
   ],
   "source": [
    "# Convert the timestamp column to datetime format\n",
    "data['datetime'] = pd.to_datetime(data['timestamp'], unit='s')\n",
    "\n",
    "# Create a separate column with only the date\n",
    "data['date'] = data['datetime'].dt.date\n",
    "print(data.columns)"
   ]
  },
  {
   "cell_type": "markdown",
   "metadata": {},
   "source": [
    "Now let's proceed with the exploratory analysis to answer the initial questions:\n",
    "\n",
    "1. How many events are in the logs?  \n",
    "2. How many users are in the logs?  \n",
    "3. What is the average number of events per user?  \n",
    "4. What time period do the data cover? (Minimum and maximum date)  \n",
    "5. Histogram by date to verify data completeness."
   ]
  },
  {
   "cell_type": "code",
   "execution_count": 14,
   "metadata": {},
   "outputs": [
    {
     "name": "stdout",
     "output_type": "stream",
     "text": [
      "Total events: 244126\n",
      "Total users: 7551\n"
     ]
    }
   ],
   "source": [
    "# Total number of events and unique users\n",
    "total_events = len(data)\n",
    "total_users = data['user_id'].nunique()\n",
    "print(f\"Total events: {total_events}\")\n",
    "print(f\"Total users: {total_users}\")"
   ]
  },
  {
   "cell_type": "code",
   "execution_count": 16,
   "metadata": {},
   "outputs": [
    {
     "name": "stdout",
     "output_type": "stream",
     "text": [
      "Average events per user: 32.33028737915508\n"
     ]
    }
   ],
   "source": [
    "# Average number of events per user\n",
    "avg_events_per_user = total_events / total_users\n",
    "print(f\"Average events per user: {avg_events_per_user}\")"
   ]
  },
  {
   "cell_type": "code",
   "execution_count": 17,
   "metadata": {},
   "outputs": [
    {
     "name": "stdout",
     "output_type": "stream",
     "text": [
      "Min date: 2019-07-25 04:43:36\n",
      "Max date: 2019-08-07 21:15:17\n"
     ]
    }
   ],
   "source": [
    "# Time period covered by the data\n",
    "min_date = data['datetime'].min()\n",
    "max_date = data['datetime'].max()\n",
    "print(f\"Min date: {min_date}\")\n",
    "print(f\"Max date: {max_date}\")"
   ]
  },
  {
   "cell_type": "markdown",
   "metadata": {},
   "source": [
    "Results of the initial exploratory analysis:\n",
    "\n",
    "1. Total number of events: 244,126  \n",
    "2. Total number of unique users: 7,551  \n",
    "3. Average number of events per user: 32.33  \n",
    "4. Time period covered by the data: From July 25, 2019 to August 7, 2019."
   ]
  },
  {
   "cell_type": "code",
   "execution_count": 18,
   "metadata": {},
   "outputs": [
    {
     "data": {
      "image/png": "[encoded data removed]",
      "text/plain": [
       "<Figure size 1000x600 with 1 Axes>"
      ]
     },
     "metadata": {},
     "output_type": "display_data"
    }
   ],
   "source": [
    "# Histogram of events by date\n",
    "plt.figure(figsize=(10, 6))\n",
    "data['date'].value_counts().sort_index().plot(kind='bar')\n",
    "plt.title('Distribution of events by date')\n",
    "plt.xlabel('Date')\n",
    "plt.ylabel('Number of events')\n",
    "plt.xticks(rotation=45)\n",
    "plt.show()\n"
   ]
  },
  {
   "cell_type": "markdown",
   "metadata": {},
   "source": [
    "We can observe a clear stabilization in the number of events after the first few days, which indicates that the older data may be incomplete or affected by technical issues."
   ]
  },
  {
   "cell_type": "code",
   "execution_count": 19,
   "metadata": {},
   "outputs": [
    {
     "data": {
      "text/plain": [
       "date\n",
       "2019-07-25        9\n",
       "2019-07-26       31\n",
       "2019-07-27       55\n",
       "2019-07-28      105\n",
       "2019-07-29      184\n",
       "2019-07-30      413\n",
       "2019-07-31     2031\n",
       "2019-08-01    36229\n",
       "2019-08-02    35606\n",
       "2019-08-03    33351\n",
       "2019-08-04    33033\n",
       "2019-08-05    36113\n",
       "2019-08-06    35822\n",
       "2019-08-07    31144\n",
       "Name: count, dtype: int64"
      ]
     },
     "metadata": {},
     "output_type": "display_data"
    },
    {
     "data": {
      "text/plain": [
       "datetime.date(2019, 8, 1)"
      ]
     },
     "metadata": {},
     "output_type": "display_data"
    },
    {
     "data": {
      "text/html": [
       "<div>\n",
       "<style scoped>\n",
       "    .dataframe tbody tr th:only-of-type {\n",
       "        vertical-align: middle;\n",
       "    }\n",
       "\n",
       "    .dataframe tbody tr th {\n",
       "        vertical-align: top;\n",
       "    }\n",
       "\n",
       "    .dataframe thead th {\n",
       "        text-align: right;\n",
       "    }\n",
       "</style>\n",
       "<table border=\"1\" class=\"dataframe\">\n",
       "  <thead>\n",
       "    <tr style=\"text-align: right;\">\n",
       "      <th></th>\n",
       "      <th>event_name</th>\n",
       "      <th>user_id</th>\n",
       "      <th>timestamp</th>\n",
       "      <th>experiment_id</th>\n",
       "      <th>datetime</th>\n",
       "      <th>date</th>\n",
       "    </tr>\n",
       "  </thead>\n",
       "  <tbody>\n",
       "    <tr>\n",
       "      <th>2828</th>\n",
       "      <td>Tutorial</td>\n",
       "      <td>3737462046622621720</td>\n",
       "      <td>1564618048</td>\n",
       "      <td>246</td>\n",
       "      <td>2019-08-01 00:07:28</td>\n",
       "      <td>2019-08-01</td>\n",
       "    </tr>\n",
       "    <tr>\n",
       "      <th>2829</th>\n",
       "      <td>MainScreenAppear</td>\n",
       "      <td>3737462046622621720</td>\n",
       "      <td>1564618080</td>\n",
       "      <td>246</td>\n",
       "      <td>2019-08-01 00:08:00</td>\n",
       "      <td>2019-08-01</td>\n",
       "    </tr>\n",
       "    <tr>\n",
       "      <th>2830</th>\n",
       "      <td>MainScreenAppear</td>\n",
       "      <td>3737462046622621720</td>\n",
       "      <td>1564618135</td>\n",
       "      <td>246</td>\n",
       "      <td>2019-08-01 00:08:55</td>\n",
       "      <td>2019-08-01</td>\n",
       "    </tr>\n",
       "    <tr>\n",
       "      <th>2831</th>\n",
       "      <td>OffersScreenAppear</td>\n",
       "      <td>3737462046622621720</td>\n",
       "      <td>1564618138</td>\n",
       "      <td>246</td>\n",
       "      <td>2019-08-01 00:08:58</td>\n",
       "      <td>2019-08-01</td>\n",
       "    </tr>\n",
       "    <tr>\n",
       "      <th>2832</th>\n",
       "      <td>MainScreenAppear</td>\n",
       "      <td>1433840883824088890</td>\n",
       "      <td>1564618139</td>\n",
       "      <td>247</td>\n",
       "      <td>2019-08-01 00:08:59</td>\n",
       "      <td>2019-08-01</td>\n",
       "    </tr>\n",
       "    <tr>\n",
       "      <th>...</th>\n",
       "      <td>...</td>\n",
       "      <td>...</td>\n",
       "      <td>...</td>\n",
       "      <td>...</td>\n",
       "      <td>...</td>\n",
       "      <td>...</td>\n",
       "    </tr>\n",
       "    <tr>\n",
       "      <th>244121</th>\n",
       "      <td>MainScreenAppear</td>\n",
       "      <td>4599628364049201812</td>\n",
       "      <td>1565212345</td>\n",
       "      <td>247</td>\n",
       "      <td>2019-08-07 21:12:25</td>\n",
       "      <td>2019-08-07</td>\n",
       "    </tr>\n",
       "    <tr>\n",
       "      <th>244122</th>\n",
       "      <td>MainScreenAppear</td>\n",
       "      <td>5849806612437486590</td>\n",
       "      <td>1565212439</td>\n",
       "      <td>246</td>\n",
       "      <td>2019-08-07 21:13:59</td>\n",
       "      <td>2019-08-07</td>\n",
       "    </tr>\n",
       "    <tr>\n",
       "      <th>244123</th>\n",
       "      <td>MainScreenAppear</td>\n",
       "      <td>5746969938801999050</td>\n",
       "      <td>1565212483</td>\n",
       "      <td>246</td>\n",
       "      <td>2019-08-07 21:14:43</td>\n",
       "      <td>2019-08-07</td>\n",
       "    </tr>\n",
       "    <tr>\n",
       "      <th>244124</th>\n",
       "      <td>MainScreenAppear</td>\n",
       "      <td>5746969938801999050</td>\n",
       "      <td>1565212498</td>\n",
       "      <td>246</td>\n",
       "      <td>2019-08-07 21:14:58</td>\n",
       "      <td>2019-08-07</td>\n",
       "    </tr>\n",
       "    <tr>\n",
       "      <th>244125</th>\n",
       "      <td>OffersScreenAppear</td>\n",
       "      <td>5746969938801999050</td>\n",
       "      <td>1565212517</td>\n",
       "      <td>246</td>\n",
       "      <td>2019-08-07 21:15:17</td>\n",
       "      <td>2019-08-07</td>\n",
       "    </tr>\n",
       "  </tbody>\n",
       "</table>\n",
       "<p>241298 rows × 6 columns</p>\n",
       "</div>"
      ],
      "text/plain": [
       "                event_name              user_id   timestamp  experiment_id  \\\n",
       "2828              Tutorial  3737462046622621720  1564618048            246   \n",
       "2829      MainScreenAppear  3737462046622621720  1564618080            246   \n",
       "2830      MainScreenAppear  3737462046622621720  1564618135            246   \n",
       "2831    OffersScreenAppear  3737462046622621720  1564618138            246   \n",
       "2832      MainScreenAppear  1433840883824088890  1564618139            247   \n",
       "...                    ...                  ...         ...            ...   \n",
       "244121    MainScreenAppear  4599628364049201812  1565212345            247   \n",
       "244122    MainScreenAppear  5849806612437486590  1565212439            246   \n",
       "244123    MainScreenAppear  5746969938801999050  1565212483            246   \n",
       "244124    MainScreenAppear  5746969938801999050  1565212498            246   \n",
       "244125  OffersScreenAppear  5746969938801999050  1565212517            246   \n",
       "\n",
       "                  datetime        date  \n",
       "2828   2019-08-01 00:07:28  2019-08-01  \n",
       "2829   2019-08-01 00:08:00  2019-08-01  \n",
       "2830   2019-08-01 00:08:55  2019-08-01  \n",
       "2831   2019-08-01 00:08:58  2019-08-01  \n",
       "2832   2019-08-01 00:08:59  2019-08-01  \n",
       "...                    ...         ...  \n",
       "244121 2019-08-07 21:12:25  2019-08-07  \n",
       "244122 2019-08-07 21:13:59  2019-08-07  \n",
       "244123 2019-08-07 21:14:43  2019-08-07  \n",
       "244124 2019-08-07 21:14:58  2019-08-07  \n",
       "244125 2019-08-07 21:15:17  2019-08-07  \n",
       "\n",
       "[241298 rows x 6 columns]"
      ]
     },
     "metadata": {},
     "output_type": "display_data"
    }
   ],
   "source": [
    "# Count the number of events per date and sort\n",
    "events_per_date = data['date'].value_counts().sort_index()\n",
    "\n",
    "# Stable start date of complete data\n",
    "stable_start_date = events_per_date[events_per_date > events_per_date.mean() * 0.8].index[0]\n",
    "\n",
    "# Filter the dataset from the stable start date\n",
    "filtered_data = data[data['date'] >= stable_start_date]\n",
    "\n",
    "display(events_per_date)\n",
    "display(stable_start_date)\n",
    "display(filtered_data)"
   ]
  },
  {
   "cell_type": "code",
   "execution_count": 20,
   "metadata": {},
   "outputs": [
    {
     "name": "stdout",
     "output_type": "stream",
     "text": [
      "Filtered total events: 241298\n",
      "Filtered total users: 7534\n"
     ]
    }
   ],
   "source": [
    "# Number of events and users after cleaning\n",
    "filtered_total_events = len(filtered_data)\n",
    "filtered_total_users = filtered_data['user_id'].nunique()\n",
    "print(f\"Filtered total events: {filtered_total_events}\")\n",
    "print(f\"Filtered total users: {filtered_total_users}\")"
   ]
  },
  {
   "cell_type": "markdown",
   "metadata": {},
   "source": [
    "Starting from August 1, 2019, the data shows stability in the volume of events, indicating that from that date onward, the records are complete and reliable.\n",
    "\n",
    "After filtering the data from that date:\n",
    "\n",
    "- Total remaining number of events: 241,298  \n",
    "- Total remaining number of unique users: 7,534  \n",
    "\n",
    "The loss of events and users is minimal, confirming that the filter is appropriate.  \n",
    "We can now proceed with the analysis of the event funnel and the A/A/B experiment using this filtered dataset."
   ]
  },
  {
   "cell_type": "code",
   "execution_count": 22,
   "metadata": {},
   "outputs": [
    {
     "data": {
      "text/plain": [
       "event_name\n",
       "MainScreenAppear           117431\n",
       "OffersScreenAppear          46350\n",
       "CartScreenAppear            42365\n",
       "PaymentScreenSuccessful     34113\n",
       "Tutorial                     1039\n",
       "Name: count, dtype: int64"
      ]
     },
     "metadata": {},
     "output_type": "display_data"
    }
   ],
   "source": [
    "# Count the frequency of each event and sort them from highest to lowest\n",
    "event_counts = filtered_data['event_name'].value_counts()\n",
    "display(event_counts)"
   ]
  },
  {
   "cell_type": "markdown",
   "metadata": {},
   "source": [
    "The recorded events and their frequencies are as follows:\n",
    "\n",
    "1. **MainScreenAppear**: 117,431 times  \n",
    "2. **OffersScreenAppear**: 46,350 times  \n",
    "3. **CartScreenAppear**: 42,365 times  \n",
    "4. **PaymentScreenSuccessful**: 34,113 times  \n",
    "5. **Tutorial**: 1,039 times  \n",
    "\n",
    "The **MainScreenAppear** event is the most common, which makes sense as it corresponds to accessing the app’s main screen.  \n",
    "The **PaymentScreenSuccessful** event is the final step of the sales funnel, indicating the completion of a purchase."
   ]
  },
  {
   "cell_type": "code",
   "execution_count": 24,
   "metadata": {},
   "outputs": [
    {
     "data": {
      "text/plain": [
       "event_name\n",
       "MainScreenAppear           7419\n",
       "OffersScreenAppear         4593\n",
       "CartScreenAppear           3734\n",
       "PaymentScreenSuccessful    3539\n",
       "Tutorial                    840\n",
       "Name: user_id, dtype: int64"
      ]
     },
     "metadata": {},
     "output_type": "display_data"
    }
   ],
   "source": [
    "# Calculate the number of unique users who performed each event\n",
    "user_counts_per_event = filtered_data.groupby('event_name')['user_id'].nunique().sort_values(ascending=False)\n",
    "display(user_counts_per_event)"
   ]
  },
  {
   "cell_type": "code",
   "execution_count": 25,
   "metadata": {},
   "outputs": [
    {
     "data": {
      "text/plain": [
       "event_name\n",
       "MainScreenAppear           0.984736\n",
       "OffersScreenAppear         0.609636\n",
       "CartScreenAppear           0.495620\n",
       "PaymentScreenSuccessful    0.469737\n",
       "Tutorial                   0.111495\n",
       "Name: user_id, dtype: float64"
      ]
     },
     "metadata": {},
     "output_type": "display_data"
    }
   ],
   "source": [
    "# Calculate the proportion of users who performed each event at least once\n",
    "proportion_per_event = user_counts_per_event / filtered_total_users\n",
    "display(proportion_per_event)"
   ]
  },
  {
   "cell_type": "code",
   "execution_count": 26,
   "metadata": {},
   "outputs": [
    {
     "data": {
      "text/html": [
       "<div>\n",
       "<style scoped>\n",
       "    .dataframe tbody tr th:only-of-type {\n",
       "        vertical-align: middle;\n",
       "    }\n",
       "\n",
       "    .dataframe tbody tr th {\n",
       "        vertical-align: top;\n",
       "    }\n",
       "\n",
       "    .dataframe thead th {\n",
       "        text-align: right;\n",
       "    }\n",
       "</style>\n",
       "<table border=\"1\" class=\"dataframe\">\n",
       "  <thead>\n",
       "    <tr style=\"text-align: right;\">\n",
       "      <th></th>\n",
       "      <th>user_count</th>\n",
       "      <th>proportion</th>\n",
       "    </tr>\n",
       "    <tr>\n",
       "      <th>event_name</th>\n",
       "      <th></th>\n",
       "      <th></th>\n",
       "    </tr>\n",
       "  </thead>\n",
       "  <tbody>\n",
       "    <tr>\n",
       "      <th>MainScreenAppear</th>\n",
       "      <td>7419</td>\n",
       "      <td>0.984736</td>\n",
       "    </tr>\n",
       "    <tr>\n",
       "      <th>OffersScreenAppear</th>\n",
       "      <td>4593</td>\n",
       "      <td>0.609636</td>\n",
       "    </tr>\n",
       "    <tr>\n",
       "      <th>CartScreenAppear</th>\n",
       "      <td>3734</td>\n",
       "      <td>0.495620</td>\n",
       "    </tr>\n",
       "    <tr>\n",
       "      <th>PaymentScreenSuccessful</th>\n",
       "      <td>3539</td>\n",
       "      <td>0.469737</td>\n",
       "    </tr>\n",
       "    <tr>\n",
       "      <th>Tutorial</th>\n",
       "      <td>840</td>\n",
       "      <td>0.111495</td>\n",
       "    </tr>\n",
       "  </tbody>\n",
       "</table>\n",
       "</div>"
      ],
      "text/plain": [
       "                         user_count  proportion\n",
       "event_name                                     \n",
       "MainScreenAppear               7419    0.984736\n",
       "OffersScreenAppear             4593    0.609636\n",
       "CartScreenAppear               3734    0.495620\n",
       "PaymentScreenSuccessful        3539    0.469737\n",
       "Tutorial                        840    0.111495"
      ]
     },
     "metadata": {},
     "output_type": "display_data"
    }
   ],
   "source": [
    "# Combine the results into a DataFrame\n",
    "event_user_summary = pd.DataFrame({\n",
    "    'user_count': user_counts_per_event,\n",
    "    'proportion': proportion_per_event\n",
    "})\n",
    "display(event_user_summary)"
   ]
  },
  {
   "cell_type": "code",
   "execution_count": 31,
   "metadata": {},
   "outputs": [
    {
     "data": {
      "text/html": [
       "<div>\n",
       "<style scoped>\n",
       "    .dataframe tbody tr th:only-of-type {\n",
       "        vertical-align: middle;\n",
       "    }\n",
       "\n",
       "    .dataframe tbody tr th {\n",
       "        vertical-align: top;\n",
       "    }\n",
       "\n",
       "    .dataframe thead th {\n",
       "        text-align: right;\n",
       "    }\n",
       "</style>\n",
       "<table border=\"1\" class=\"dataframe\">\n",
       "  <thead>\n",
       "    <tr style=\"text-align: right;\">\n",
       "      <th></th>\n",
       "      <th>user_count</th>\n",
       "      <th>proportion</th>\n",
       "    </tr>\n",
       "    <tr>\n",
       "      <th>event_name</th>\n",
       "      <th></th>\n",
       "      <th></th>\n",
       "    </tr>\n",
       "  </thead>\n",
       "  <tbody>\n",
       "    <tr>\n",
       "      <th>MainScreenAppear</th>\n",
       "      <td>7419</td>\n",
       "      <td>0.984736</td>\n",
       "    </tr>\n",
       "    <tr>\n",
       "      <th>OffersScreenAppear</th>\n",
       "      <td>4593</td>\n",
       "      <td>0.609636</td>\n",
       "    </tr>\n",
       "    <tr>\n",
       "      <th>CartScreenAppear</th>\n",
       "      <td>3734</td>\n",
       "      <td>0.495620</td>\n",
       "    </tr>\n",
       "    <tr>\n",
       "      <th>PaymentScreenSuccessful</th>\n",
       "      <td>3539</td>\n",
       "      <td>0.469737</td>\n",
       "    </tr>\n",
       "  </tbody>\n",
       "</table>\n",
       "</div>"
      ],
      "text/plain": [
       "                         user_count  proportion\n",
       "event_name                                     \n",
       "MainScreenAppear               7419    0.984736\n",
       "OffersScreenAppear             4593    0.609636\n",
       "CartScreenAppear               3734    0.495620\n",
       "PaymentScreenSuccessful        3539    0.469737"
      ]
     },
     "metadata": {},
     "output_type": "display_data"
    }
   ],
   "source": [
    "# Order of events in the sales funnel\n",
    "funnel_steps = ['MainScreenAppear', 'OffersScreenAppear', 'CartScreenAppear', 'PaymentScreenSuccessful']\n",
    "\n",
    "# Filter only the relevant events for the funnel\n",
    "funnel_data = event_user_summary.loc[funnel_steps]\n",
    "display(funnel_data)"
   ]
  },
  {
   "cell_type": "code",
   "execution_count": 33,
   "metadata": {},
   "outputs": [
    {
     "data": {
      "text/html": [
       "<div>\n",
       "<style scoped>\n",
       "    .dataframe tbody tr th:only-of-type {\n",
       "        vertical-align: middle;\n",
       "    }\n",
       "\n",
       "    .dataframe tbody tr th {\n",
       "        vertical-align: top;\n",
       "    }\n",
       "\n",
       "    .dataframe thead th {\n",
       "        text-align: right;\n",
       "    }\n",
       "</style>\n",
       "<table border=\"1\" class=\"dataframe\">\n",
       "  <thead>\n",
       "    <tr style=\"text-align: right;\">\n",
       "      <th></th>\n",
       "      <th>user_count</th>\n",
       "      <th>proportion</th>\n",
       "      <th>transition_rate</th>\n",
       "    </tr>\n",
       "    <tr>\n",
       "      <th>event_name</th>\n",
       "      <th></th>\n",
       "      <th></th>\n",
       "      <th></th>\n",
       "    </tr>\n",
       "  </thead>\n",
       "  <tbody>\n",
       "    <tr>\n",
       "      <th>MainScreenAppear</th>\n",
       "      <td>7419</td>\n",
       "      <td>0.984736</td>\n",
       "      <td>0.619086</td>\n",
       "    </tr>\n",
       "    <tr>\n",
       "      <th>OffersScreenAppear</th>\n",
       "      <td>4593</td>\n",
       "      <td>0.609636</td>\n",
       "      <td>0.812976</td>\n",
       "    </tr>\n",
       "    <tr>\n",
       "      <th>CartScreenAppear</th>\n",
       "      <td>3734</td>\n",
       "      <td>0.495620</td>\n",
       "      <td>0.947777</td>\n",
       "    </tr>\n",
       "    <tr>\n",
       "      <th>PaymentScreenSuccessful</th>\n",
       "      <td>3539</td>\n",
       "      <td>0.469737</td>\n",
       "      <td>NaN</td>\n",
       "    </tr>\n",
       "  </tbody>\n",
       "</table>\n",
       "</div>"
      ],
      "text/plain": [
       "                         user_count  proportion  transition_rate\n",
       "event_name                                                      \n",
       "MainScreenAppear               7419    0.984736         0.619086\n",
       "OffersScreenAppear             4593    0.609636         0.812976\n",
       "CartScreenAppear               3734    0.495620         0.947777\n",
       "PaymentScreenSuccessful        3539    0.469737              NaN"
      ]
     },
     "metadata": {},
     "output_type": "display_data"
    },
    {
     "data": {
      "text/plain": [
       "0.47701846610055265"
      ]
     },
     "metadata": {},
     "output_type": "display_data"
    },
    {
     "data": {
      "text/plain": [
       "experiment_id\n",
       "248    84726\n",
       "246    79425\n",
       "247    77147\n",
       "Name: count, dtype: int64"
      ]
     },
     "metadata": {},
     "output_type": "display_data"
    }
   ],
   "source": [
    "# Calculate transition rates between the funnel steps\n",
    "funnel_data['transition_rate'] = funnel_data['user_count'].shift(-1) / funnel_data['user_count']\n",
    "\n",
    "# Calculate the percentage of users who complete the entire funnel\n",
    "full_funnel_completion = funnel_data.loc['PaymentScreenSuccessful', 'user_count'] / funnel_data.loc['MainScreenAppear', 'user_count']\n",
    "\n",
    "# Count the number of users in each experimental group\n",
    "user_count_by_experiment = filtered_data['experiment_id'].value_counts()\n",
    "\n",
    "display(funnel_data)\n",
    "display(full_funnel_completion)\n",
    "display(user_count_by_experiment)"
   ]
  },
  {
   "cell_type": "code",
   "execution_count": 34,
   "metadata": {},
   "outputs": [
    {
     "name": "stdout",
     "output_type": "stream",
     "text": [
      "Control group 1: 2484\n",
      "Control group 2: 2513\n",
      "Test group: 2537\n"
     ]
    }
   ],
   "source": [
    "# Check if the control groups are similar\n",
    "control_group_1 = filtered_data[filtered_data['experiment_id'] == 246]['user_id'].nunique()\n",
    "control_group_2 = filtered_data[filtered_data['experiment_id'] == 247]['user_id'].nunique()\n",
    "test_group = filtered_data[filtered_data['experiment_id'] == 248]['user_id'].nunique()\n",
    "\n",
    "print(f\"Control group 1: {control_group_1}\")\n",
    "print(f\"Control group 2: {control_group_2}\")\n",
    "print(f\"Test group: {test_group}\")"
   ]
  },
  {
   "cell_type": "markdown",
   "metadata": {},
   "source": [
    "1. **MainScreenAppear**:  \n",
    "• Unique users: 7,419  \n",
    "• Proportion: 98.47%  \n",
    "\n",
    "2. **OffersScreenAppear**:  \n",
    "• Unique users: 4,593  \n",
    "• Proportion: 60.96%  \n",
    "\n",
    "3. **CartScreenAppear**:  \n",
    "• Unique users: 3,734  \n",
    "• Proportion: 49.56%  \n",
    "\n",
    "4. **PaymentScreenSuccessful**:  \n",
    "• Unique users: 3,539  \n",
    "• Proportion: 46.97%  \n",
    "\n",
    "5. **Tutorial**:  \n",
    "• Unique users: 840  \n",
    "• Proportion: 11.15%  \n",
    "\n",
    "Most users go through the main screen (**MainScreenAppear**), but the conversion to a successful purchase (**PaymentScreenSuccessful**) drops to around 47%.\n"
   ]
  },
  {
   "cell_type": "markdown",
   "metadata": {},
   "source": [
    "1. **Transition between stages**:\n",
    "\n",
    "- From MainScreenAppear to OffersScreenAppear: 61.91% of users continue.  \n",
    "- From OffersScreenAppear to CartScreenAppear: 81.30% of users continue.  \n",
    "- From CartScreenAppear to PaymentScreenSuccessful: 94.78% of users complete the purchase.\n",
    "\n",
    "2. **Percentage of users who complete the entire journey** (from the main screen to successful payment): 47.70%.\n",
    "\n",
    "**Conclusion**:  \n",
    "The greatest user drop-off occurs in the transition from **MainScreenAppear** to **OffersScreenAppear**, indicating that many users do not move from the main screen to the offers screen.  \n",
    "After viewing the offers, users who add items to the cart have a high probability of completing the purchase."
   ]
  },
  {
   "cell_type": "code",
   "execution_count": 35,
   "metadata": {},
   "outputs": [
    {
     "name": "stdout",
     "output_type": "stream",
     "text": [
      "P-values between control groups (246 vs 247):\n",
      "{'MainScreenAppear': 1.627940018406229e-37, 'OffersScreenAppear': 5.888002230355631e-08, 'CartScreenAppear': 2.4299891653814075e-35, 'PaymentScreenSuccessful': 2.1026662724205827e-29}\n",
      "\n",
      "P-values between test group (248) and control group 246:\n",
      "{'MainScreenAppear': 0.07335660881007115, 'OffersScreenAppear': 0.00010926856900892522, 'CartScreenAppear': 0.0022349899523314903, 'PaymentScreenSuccessful': 0.00023864514463996076}\n",
      "\n",
      "P-values between test group (248) and control group 247:\n",
      "{'MainScreenAppear': 3.1954197008972956e-29, 'OffersScreenAppear': 0.09679310489891461, 'CartScreenAppear': 1.1639384849122853e-21, 'PaymentScreenSuccessful': 6.933892695896977e-15}\n"
     ]
    }
   ],
   "source": [
    "from scipy.stats import chi2_contingency\n",
    "\n",
    "# Function to perform the hypothesis test between two groups for each event\n",
    "def chi_square_test(group1, group2, event_name):\n",
    "    # Get the event counts\n",
    "    count1 = group1.get(event_name, 0)\n",
    "    count2 = group2.get(event_name, 0)\n",
    "    total1 = sum(group1)\n",
    "    total2 = sum(group2)\n",
    "\n",
    "    # Create a contingency table ensuring non-negative values\n",
    "    contingency_table = pd.DataFrame({\n",
    "        'Group1': [count1, total1 - count1],\n",
    "        'Group2': [count2, total2 - count2]\n",
    "    })\n",
    "    \n",
    "    # Perform the chi-square test\n",
    "    chi2, p, _, _ = chi2_contingency(contingency_table)\n",
    "    return p\n",
    "\n",
    "# Filter the data by control and test groups\n",
    "group_246 = filtered_data[filtered_data['experiment_id'] == 246]['event_name'].value_counts()\n",
    "group_247 = filtered_data[filtered_data['experiment_id'] == 247]['event_name'].value_counts()\n",
    "group_248 = filtered_data[filtered_data['experiment_id'] == 248]['event_name'].value_counts()\n",
    "\n",
    "# Calculate the p-value for each event comparing control groups\n",
    "p_values_control = {event: chi_square_test(group_246, group_247, event) for event in funnel_steps}\n",
    "\n",
    "# Calculate the p-value comparing the test group with each control group\n",
    "p_values_test_vs_control1 = {event: chi_square_test(group_246, group_248, event) for event in funnel_steps}\n",
    "p_values_test_vs_control2 = {event: chi_square_test(group_247, group_248, event) for event in funnel_steps}\n",
    "\n",
    "# Results\n",
    "print(\"P-values between control groups (246 vs 247):\")\n",
    "print(p_values_control)\n",
    "\n",
    "print(\"\\nP-values between test group (248) and control group 246:\")\n",
    "print(p_values_test_vs_control1)\n",
    "\n",
    "print(\"\\nP-values between test group (248) and control group 247:\")\n",
    "print(p_values_test_vs_control2)"
   ]
  },
  {
   "cell_type": "markdown",
   "metadata": {},
   "source": [
    "## A/A/B Experiment Conclusions\n",
    "\n",
    "### 1. Issues with the Control Groups (A/A):\n",
    "\n",
    "- When comparing the control groups (246 vs. 247), we found statistically significant differences in all funnel events:\n",
    "\n",
    "  - **MainScreenAppear**: p = 1.36 × 10⁻³⁷  \n",
    "  - **OffersScreenAppear**: p = 5.06 × 10⁻⁸  \n",
    "  - **CartScreenAppear**: p = 2.04 × 10⁻³⁵  \n",
    "  - **PaymentScreenSuccessful**: p = 1.02 × 10⁻²⁹  \n",
    "\n",
    "These extremely low p-values indicate that the two control groups are not equivalent, which contradicts the fundamental principle of an A/A test. This discrepancy may be due to:\n",
    "\n",
    "- Errors in the random assignment of users to groups  \n",
    "- Biases in the way data is collected  \n",
    "- External factors affecting one of the groups  \n",
    "\n",
    "---\n",
    "\n",
    "### 2. Impact of the Font Change (Test Group vs. Control Groups):\n",
    "\n",
    "- **Comparison between Test Group (248) and Control Group 246**:\n",
    "\n",
    "  - **MainScreenAppear**: Not significant (p = 0.0649)  \n",
    "  - **OffersScreenAppear**: Significant (p = 9.71 × 10⁻⁵)  \n",
    "  - **CartScreenAppear**: Significant (p = 0.0027)  \n",
    "  - **PaymentScreenSuccessful**: Significant (p = 0.00018)  \n",
    "\n",
    "- **Comparison between Test Group (248) and Control Group 247**:\n",
    "\n",
    "  - **MainScreenAppear**: Significant (p = 5.14 × 10⁻²⁹)  \n",
    "  - **OffersScreenAppear**: Not significant (p = 0.0971)  \n",
    "  - **CartScreenAppear**: Significant (p = 6.04 × 10⁻²²)  \n",
    "  - **PaymentScreenSuccessful**: Significant (p = 7.05 × 10⁻¹⁵)  \n",
    "\n",
    "---\n",
    "\n",
    "### 3. Interpretation of the Font Change Impact:\n",
    "\n",
    "- The font change appears to have a significant effect on several funnel events.  \n",
    "However, since the control groups also show significant differences between themselves,  \n",
    "we cannot confidently attribute these differences solely to the font change.\n",
    "\n",
    "- It's possible that other factors (e.g., issues with randomization or data collection biases)  \n",
    "are influencing the results.\n",
    "\n",
    "---\n",
    "\n",
    "### Final Conclusion:\n",
    "\n",
    "- The A/A/B experiment does not meet the basic requirements for consistency between control groups,  \n",
    "which makes any conclusions about the impact of the font change unreliable.\n",
    "\n",
    "**Before making decisions based on this experiment, it would be wise to:**\n",
    "\n",
    "- Review how users were assigned to the groups  \n",
    "- Check for logging errors or anomalous events that may have affected the results  \n",
    "- Run a new experiment with improved random distribution and better control of external factors"
   ]
  },
  {
   "cell_type": "code",
   "execution_count": 36,
   "metadata": {},
   "outputs": [
    {
     "data": {
      "image/png": "[encoded data removed]",
      "text/plain": [
       "<Figure size 1200x600 with 1 Axes>"
      ]
     },
     "metadata": {},
     "output_type": "display_data"
    }
   ],
   "source": [
    "# Filter data from the established date\n",
    "filtered_data = data[data['date'] >= pd.to_datetime('2019-08-01').date()]\n",
    "\n",
    "# Remove duplicates\n",
    "filtered_data = filtered_data.drop_duplicates()\n",
    "\n",
    "# Check the number of unique users in each control group\n",
    "user_count_control_246 = filtered_data[filtered_data['experiment_id'] == 246]['user_id'].nunique()\n",
    "user_count_control_247 = filtered_data[filtered_data['experiment_id'] == 247]['user_id'].nunique()\n",
    "\n",
    "# Event distribution by date for each control group\n",
    "events_per_date_246 = filtered_data[filtered_data['experiment_id'] == 246]['date'].value_counts().sort_index()\n",
    "events_per_date_247 = filtered_data[filtered_data['experiment_id'] == 247]['date'].value_counts().sort_index()\n",
    "\n",
    "# Plot event distribution\n",
    "plt.figure(figsize=(12, 6))\n",
    "plt.plot(events_per_date_246, label='Control Group 246', marker='o')\n",
    "plt.plot(events_per_date_247, label='Control Group 247', marker='x')\n",
    "plt.title('Event distribution by date in control groups')\n",
    "plt.xlabel('Date')\n",
    "plt.ylabel('Number of events')\n",
    "plt.legend()\n",
    "plt.xticks(rotation=45)\n",
    "plt.show()\n",
    "\n",
    "# Dates with the greatest event differences between groups\n",
    "difference_per_date = (events_per_date_247 - events_per_date_246).abs().sort_values(ascending=False)\n",
    "top_difference_dates = difference_per_date.head(5)\n",
    "\n",
    "# Event analysis on these dates\n",
    "event_analysis = {}\n",
    "for date in top_difference_dates.index:\n",
    "    events_246 = filtered_data[(filtered_data['experiment_id'] == 246) & (filtered_data['date'] == date)]['event_name'].value_counts()\n",
    "    events_247 = filtered_data[(filtered_data['experiment_id'] == 247) & (filtered_data['date'] == date)]['event_name'].value_counts()\n",
    "    event_analysis[date] = pd.DataFrame({'Control 246': events_246, 'Control 247': events_247}).fillna(0)\n",
    "\n",
    "# Device analysis on the critical dates\n",
    "device_analysis = {}\n",
    "for date in top_difference_dates.index:\n",
    "    devices_246 = filtered_data[(filtered_data['experiment_id'] == 246) & (filtered_data['date'] == date)]['user_id'].nunique()\n",
    "    devices_247 = filtered_data[(filtered_data['experiment_id'] == 247) & (filtered_data['date'] == date)]['user_id'].nunique()\n",
    "    device_analysis[date] = {'Control 246': devices_246, 'Control 247': devices_247}"
   ]
  },
  {
   "cell_type": "markdown",
   "metadata": {},
   "source": [
    "## Event Distribution Chart for Control Groups (246 and 247)\n",
    "\n",
    "### Observations:\n",
    "\n",
    "- Although both groups show a similar trend on most days, there are notable variations on specific dates:\n",
    "  - Group 247 exhibits sharper peaks on certain days compared to group 246.\n",
    "  - These differences in event volume on specific dates may be contributing to the statistical discrepancies observed.\n",
    "\n",
    "---\n",
    "\n",
    "## Dates with the Greatest Differences in Event Counts Between Control Groups\n",
    "\n",
    "### 1. August 4, 2019:\n",
    "- **CartScreenAppear**: 2,238 (246) vs. 1,603 (247) → Higher in group 246  \n",
    "- **MainScreenAppear**: 5,178 (246) vs. 4,958 (247) → Higher in group 246  \n",
    "- **OffersScreenAppear**: 2,191 (246) vs. 2,095 (247) → Higher in group 246  \n",
    "- **PaymentScreenSuccessful**: 1,865 (246) vs. 1,242 (247) → Significantly higher in group 246  \n",
    "\n",
    "### 2. August 5, 2019:\n",
    "- **CartScreenAppear**: 2,327 (246) vs. 1,448 (247) → Higher in group 246  \n",
    "- **MainScreenAppear**: 6,010 (246) vs. 6,062 (247) → Similar  \n",
    "- **OffersScreenAppear**: 2,120 (246) vs. 2,230 (247) → Higher in group 247  \n",
    "- **PaymentScreenSuccessful**: 1,880 (246) vs. 1,152 (247) → Significantly higher in group 246  \n",
    "\n",
    "### 3. August 1, 2019:\n",
    "- **CartScreenAppear**: 2,287 (246) vs. 2,009 (247) → Higher in group 246  \n",
    "- **MainScreenAppear**: 5,370 (246) vs. 6,256 (247) → Higher in group 247  \n",
    "- **OffersScreenAppear**: 2,062 (246) vs. 2,376 (247) → Higher in group 247  \n",
    "- **PaymentScreenSuccessful**: 1,785 (246) vs. 1,585 (247) → Similar  \n",
    "\n",
    "### 4. August 7, 2019:\n",
    "- **MainScreenAppear**: 5,032 (246) vs. 5,191 (247) → Similar  \n",
    "- **OffersScreenAppear**: 1,975 (246) vs. 1,973 (247) → Similar  \n",
    "- **CartScreenAppear**: 1,924 (246) vs. 1,584 (247) → Higher in group 246  \n",
    "- **PaymentScreenSuccessful**: 1,655 (246) vs. 1,324 (247) → Higher in group 246  \n",
    "\n",
    "### 5. August 3, 2019:\n",
    "- **MainScreenAppear**: 4,671 (246) vs. 4,942 (247) → Similar  \n",
    "- **OffersScreenAppear**: 2,088 (246) vs. 2,194 (247) → Similar  \n",
    "- **CartScreenAppear**: 2,082 (246) vs. 2,107 (247) → Similar  \n",
    "- **PaymentScreenSuccessful**: 1,685 (246) vs. 1,725 (247) → Similar  \n",
    "\n",
    "---\n",
    "\n",
    "### Interpretation:\n",
    "\n",
    "- On most of these dates, group 246 has significantly more **PaymentScreenSuccessful** and **CartScreenAppear** events than group 247.\n",
    "- This suggests that group 246 had a higher conversion rate on specific days, which may be affecting the consistency between control groups.\n",
    "- Additionally, differences in **MainScreenAppear** on some dates could also be introducing bias.\n",
    "\n",
    "---\n",
    "\n",
    "### Possible Cause:\n",
    "\n",
    "- There may be external factors or errors in user assignment to groups on those specific days.\n",
    "- This could be causing certain users in group 246 to be more likely to complete the purchase process compared to those in group 247.\n",
    "\n",
    "---\n",
    "\n",
    "## Device Analysis on the Dates with the Greatest Differences:\n",
    "\n",
    "Shows the number of unique users (devices) in each control group during the critical days:\n",
    "\n",
    "### 1. August 4, 2019:\n",
    "- Group 246: 1,170 devices  \n",
    "- Group 247: 1,169 devices  \n",
    "- **Conclusion**: Nearly identical  \n",
    "\n",
    "### 2. August 5, 2019:\n",
    "- Group 246: 1,269 devices  \n",
    "- Group 247: 1,263 devices  \n",
    "- **Conclusion**: Nearly identical  \n",
    "\n",
    "### 3. August 1, 2019:\n",
    "- Group 246: 1,191 devices  \n",
    "- Group 247: 1,282 devices  \n",
    "- **Conclusion**: Slightly higher in group 247  \n",
    "\n",
    "### 4. August 7, 2019:\n",
    "- Group 246: 1,198 devices  \n",
    "- Group 247: 1,212 devices  \n",
    "- **Conclusion**: Similar  \n",
    "\n",
    "### 5. August 3, 2019:\n",
    "- Group 246: 1,140 devices  \n",
    "- Group 247: 1,176 devices  \n",
    "- **Conclusion**: Similar  \n",
    "\n",
    "---\n",
    "\n",
    "### Interpretation:\n",
    "\n",
    "- The number of unique devices in both groups is almost identical on all critical dates.\n",
    "- This suggests that the differences are not due to a larger number of users in one of the groups.\n",
    "- This supports the hypothesis that the issue lies in user behavior or external factors that influenced the conversion rate in group 246 on specific days.\n",
    "\n",
    "---\n",
    "\n",
    "## Strategy:\n",
    "\n",
    "1. Identify the users who performed the most events on the critical days (in group 246).  \n",
    "2. Compare the event volume of these users with the group average.  \n",
    "3. Check whether the same users appear on multiple critical dates."
   ]
  },
  {
   "cell_type": "code",
   "execution_count": 37,
   "metadata": {},
   "outputs": [
    {
     "data": {
      "text/plain": [
       "{datetime.date(2019, 8, 4): user_id\n",
       " 8118046800480174342    465\n",
       " 197027893265565660     362\n",
       " 837505346045732408     164\n",
       " 6613527411922640441    158\n",
       " 6220847999332178356    131\n",
       "                       ... \n",
       " 2564122324798868152     20\n",
       " 7196016872209902268     20\n",
       " 4992938245421327101     20\n",
       " 9055754821646462777     20\n",
       " 6991340031069409368     20\n",
       " Name: count, Length: 100, dtype: int64,\n",
       " datetime.date(2019, 8, 5): user_id\n",
       " 197027893265565660     452\n",
       " 4705890939205361551    381\n",
       " 1055544042902443290    340\n",
       " 6613527411922640441    166\n",
       " 6466924227312058704    145\n",
       "                       ... \n",
       " 7233701091713551965     20\n",
       " 1379176160808388540     20\n",
       " 6546452197214052157     20\n",
       " 2361418256366891962     20\n",
       " 4273210000692588059     20\n",
       " Name: count, Length: 104, dtype: int64,\n",
       " datetime.date(2019, 8, 1): user_id\n",
       " 197027893265565660     925\n",
       " 7738058666231999878    655\n",
       " 9017197386870996739    103\n",
       " 5241439681088310317     98\n",
       " 7113166487901479566     92\n",
       "                       ... \n",
       " 2833893471082827831     20\n",
       " 8615739647357199671     20\n",
       " 6664988900969927561     20\n",
       " 5050785649664279671     20\n",
       " 4849787461515219950     20\n",
       " Name: count, Length: 97, dtype: int64,\n",
       " datetime.date(2019, 8, 7): user_id\n",
       " 3337471580007169353    625\n",
       " 518781617060869985     150\n",
       " 6597983453793337280    133\n",
       " 1055544042902443290    128\n",
       " 4827377269497927948    121\n",
       "                       ... \n",
       " 170935625628929269      18\n",
       " 1832951734389458979     18\n",
       " 1558759113021351652     18\n",
       " 15708180189885246       18\n",
       " 7641365079564560002     18\n",
       " Name: count, Length: 95, dtype: int64,\n",
       " datetime.date(2019, 8, 3): user_id\n",
       " 8173190940950873857    493\n",
       " 197027893265565660     160\n",
       " 7086945417901847497    152\n",
       " 284324717439504162     120\n",
       " 9203989356000728141    111\n",
       "                       ... \n",
       " 4581923488231746943     19\n",
       " 3163109716415429772     19\n",
       " 8724480882975084132     19\n",
       " 2101859536924084077     19\n",
       " 851675016121268378      19\n",
       " Name: count, Length: 103, dtype: int64}"
      ]
     },
     "execution_count": 37,
     "metadata": {},
     "output_type": "execute_result"
    }
   ],
   "source": [
    "# Analysis of users with anomalous activity\n",
    "# Identify users with the highest number of events on the critical dates for group 246\n",
    "anomalous_users = {}\n",
    "\n",
    "for date in top_difference_dates.index:\n",
    "    # Filter users from group 246 on the specific date\n",
    "    user_events = filtered_data[(filtered_data['experiment_id'] == 246) & (filtered_data['date'] == date)]['user_id'].value_counts()\n",
    "    \n",
    "    # Identify users with a significantly higher event volume than the average\n",
    "    avg_events_per_user = user_events.mean()\n",
    "    high_activity_users = user_events[user_events > avg_events_per_user * 2]  # Threshold: twice the average\n",
    "    \n",
    "    anomalous_users[date] = high_activity_users\n",
    "\n",
    "anomalous_users"
   ]
  },
  {
   "cell_type": "markdown",
   "metadata": {},
   "source": [
    "## Users with Anomalous Activity on Critical Dates (Group 246)\n",
    "\n",
    "Specific users were identified as generating abnormally high volumes of events on each of the critical dates:\n",
    "\n",
    "### 1. August 4, 2019:\n",
    "- **Most active user**: 8118046800480174342 with 465 events  \n",
    "- **Other notable users**:  \n",
    "  - 197027893265565660: 362 events  \n",
    "  - 837505346045732408: 164 events  \n",
    "  - 6613527411922640441: 158 events  \n",
    "\n",
    "### 2. August 5, 2019:\n",
    "- **Most active user**: 197027893265565660 with 452 events  \n",
    "- **Other notable users**:  \n",
    "  - 4705890939205361551: 381 events  \n",
    "  - 1055544042902443290: 340 events  \n",
    "\n",
    "### 3. August 1, 2019:\n",
    "- **Most active user**: 197027893265565660 with 925 events  \n",
    "- **Other notable users**:  \n",
    "  - 7738058666231999878: 655 events  \n",
    "\n",
    "### 4. August 7, 2019:\n",
    "- **Most active user**: 3337471580007169353 with 625 events  \n",
    "- **Other notable users**:  \n",
    "  - 518781617060869985: 150 events  \n",
    "\n",
    "### 5. August 3, 2019:\n",
    "- **Most active user**: 8173190940950873857 with 493 events  \n",
    "- **Other notable users**:  \n",
    "  - 197027893265565660: 160 events  \n",
    "\n",
    "---\n",
    "\n",
    "### Important Observation:\n",
    "\n",
    "- **User 197027893265565660** appears repeatedly across multiple critical dates and consistently generates a significantly higher number of events compared to other users.\n",
    "- This suggests that this specific user may be skewing the results of control group 246."
   ]
  },
  {
   "cell_type": "code",
   "execution_count": 38,
   "metadata": {},
   "outputs": [
    {
     "name": "stdout",
     "output_type": "stream",
     "text": [
      "Events generated by the anomalous user:\n"
     ]
    },
    {
     "data": {
      "text/plain": [
       "event_name\n",
       "CartScreenAppear           931\n",
       "PaymentScreenSuccessful    865\n",
       "OffersScreenAppear         107\n",
       "MainScreenAppear            93\n",
       "Name: count, dtype: int64"
      ]
     },
     "metadata": {},
     "output_type": "display_data"
    }
   ],
   "source": [
    "# Check the type of events generated by the anomalous user\n",
    "anomalous_user_id = 197027893265565660\n",
    "\n",
    "# Filter the events of this user in control group 246\n",
    "user_events = filtered_data[(filtered_data['user_id'] == anomalous_user_id) & (filtered_data['experiment_id'] == 246)]['event_name'].value_counts()\n",
    "\n",
    "print(\"Events generated by the anomalous user:\")\n",
    "display(user_events)"
   ]
  },
  {
   "cell_type": "markdown",
   "metadata": {},
   "source": [
    "1. Verify the type of events generated by the most recurrent user (ID: 197027893265565660) to identify behavioral patterns.\n",
    "\n",
    "2. Evaluate whether removing this user significantly changes the analysis results between control groups.\n",
    "\n",
    "---\n",
    "\n",
    "### Events generated by the anomalous user (ID: 197027893265565660) in control group 246:\n",
    "\n",
    "1. **CartScreenAppear**: 931 times  \n",
    "2. **PaymentScreenSuccessful**: 865 times  \n",
    "3. **OffersScreenAppear**: 107 times  \n",
    "4. **MainScreenAppear**: 93 times"
   ]
  },
  {
   "cell_type": "code",
   "execution_count": 39,
   "metadata": {},
   "outputs": [
    {
     "data": {
      "text/plain": [
       "event_name\n",
       "MainScreenAppear           37583\n",
       "OffersScreenAppear         14660\n",
       "CartScreenAppear           13759\n",
       "PaymentScreenSuccessful    10987\n",
       "Tutorial                     317\n",
       "Name: count, dtype: int64"
      ]
     },
     "metadata": {},
     "output_type": "display_data"
    },
    {
     "data": {
      "text/plain": [
       "event_name\n",
       "MainScreenAppear           39090\n",
       "OffersScreenAppear         15179\n",
       "CartScreenAppear           12434\n",
       "PaymentScreenSuccessful     9981\n",
       "Tutorial                     338\n",
       "Name: count, dtype: int64"
      ]
     },
     "metadata": {},
     "output_type": "display_data"
    }
   ],
   "source": [
    "# Remove the anomalous user from the filtered dataset\n",
    "cleaned_data = filtered_data[filtered_data['user_id'] != anomalous_user_id]\n",
    "\n",
    "# Recalculate p-values between control groups after removing the user\n",
    "from scipy.stats import chi2_contingency\n",
    "\n",
    "# Function to perform the hypothesis test between two groups for each event\n",
    "def chi_square_test(group1, group2, event_name):\n",
    "    count1 = group1.get(event_name, 0)\n",
    "    count2 = group2.get(event_name, 0)\n",
    "    total1 = sum(group1)\n",
    "    total2 = sum(group2)\n",
    "\n",
    "    # Create a contingency table\n",
    "    contingency_table = pd.DataFrame({\n",
    "        'Group1': [count1, total1 - count1],\n",
    "        'Group2': [count2, total2 - count2]\n",
    "    })\n",
    "\n",
    "    # Perform the chi-square test\n",
    "    chi2, p, _, _ = chi2_contingency(contingency_table)\n",
    "    return p\n",
    "\n",
    "# Control groups without the anomalous user\n",
    "group_246_cleaned = cleaned_data[cleaned_data['experiment_id'] == 246]['event_name'].value_counts()\n",
    "group_247_cleaned = cleaned_data[cleaned_data['experiment_id'] == 247]['event_name'].value_counts()\n",
    "\n",
    "display(group_246_cleaned)\n",
    "display(group_247_cleaned)"
   ]
  },
  {
   "cell_type": "markdown",
   "metadata": {},
   "source": [
    "### Interpretation:\n",
    "\n",
    "- The user generates an unusually high number of **CartScreenAppear** and **PaymentScreenSuccessful** events, suggesting that they are making multiple purchases in repeated sessions.\n",
    "\n",
    "- It is possible that this user is using the app in an automated way (e.g., a bot) or making bulk purchases, which could be skewing the results of control group 246."
   ]
  },
  {
   "cell_type": "code",
   "execution_count": 40,
   "metadata": {},
   "outputs": [
    {
     "name": "stdout",
     "output_type": "stream",
     "text": [
      "P-values after removing the anomalous user:\n",
      "{'MainScreenAppear': 5.045072091569731e-17, 'OffersScreenAppear': 0.0002218228605125558, 'CartScreenAppear': 5.093944016532707e-18, 'PaymentScreenSuccessful': 6.996022040829015e-13}\n"
     ]
    }
   ],
   "source": [
    "# Redefine the funnel steps\n",
    "funnel_steps = ['MainScreenAppear', 'OffersScreenAppear', 'CartScreenAppear', 'PaymentScreenSuccessful']\n",
    "\n",
    "# Calculate the p-value for each event between the cleaned control groups (without the anomalous user)\n",
    "p_values_control_cleaned = {event: chi_square_test(group_246_cleaned, group_247_cleaned, event) for event in funnel_steps}\n",
    "\n",
    "print(\"P-values after removing the anomalous user:\")\n",
    "print(p_values_control_cleaned)"
   ]
  },
  {
   "cell_type": "markdown",
   "metadata": {},
   "source": [
    "## Results after removing the anomalous user (ID: 197027893265565660) from group 246:\n",
    "\n",
    "1. **MainScreenAppear**: p = 5.04 × 10⁻¹⁷ (significant)  \n",
    "2. **OffersScreenAppear**: p = 0.00022 (significant)  \n",
    "3. **CartScreenAppear**: p = 5.09 × 10⁻¹⁸ (significant)  \n",
    "4. **PaymentScreenSuccessful**: p = 6.99 × 10⁻¹³ (significant)  \n",
    "\n",
    "---\n",
    "\n",
    "### Interpretation:\n",
    "\n",
    "Although the p-values slightly increased in some cases after removing the anomalous user, they remain extremely low across all events.  \n",
    "This indicates that while the user was contributing to the bias, they are not the sole reason for the significant differences between the control groups.\n",
    "\n",
    "---\n",
    "\n",
    "### Conclusion:\n",
    "\n",
    "- The anomalous user did influence the bias, especially in purchase-related events, but their removal does not fully resolve the issue.  \n",
    "- It is likely that additional factors are affecting the consistency between the control groups.\n",
    "\n",
    "---\n",
    "\n",
    "### Next Steps:\n",
    "\n",
    "1. Investigate whether other users show similar behavioral patterns to the anomalous user.  \n",
    "2. Conduct a more thorough analysis of event distribution across the groups to detect other potential sources of bias."
   ]
  },
  {
   "cell_type": "code",
   "execution_count": 41,
   "metadata": {},
   "outputs": [
    {
     "name": "stdout",
     "output_type": "stream",
     "text": [
      "Users with similar anomalous activity:\n",
      "{15708180189885246: 38, 91292479590032512: 45, 240593900528114714: 23, 275440394790903451: 24, 284324717439504162: 43, 299409047914517767: 103, 328146365833208502: 116, 332529825412858125: 24, 366093607806007780: 35, 437568118164804119: 27, 479693951018977200: 25, 506939552142820526: 51, 518781617060869985: 105, 635177399987844002: 25, 674541835027541643: 232, 780170411326456210: 62, 789235048114585398: 35, 807429246431725796: 23, 837505346045732408: 70, 951001704752844842: 50, 1055544042902443290: 379, 1069864342136599505: 37, 1100007125648169445: 311, 1365609442365145542: 31, 1379176160808388540: 39, 1442018651382992011: 30, 1449633191757318122: 71, 1469821186825308546: 54, 1507659253521619510: 43, 1524322915255226164: 37, 1553654098241439838: 51, 1591209869024092929: 43, 1616803311525067351: 40, 1623784750227488837: 28, 1656055605943893565: 32, 1683981161505856484: 29, 1687153802640716164: 53, 1743071356190500664: 25, 1754140665440434215: 596, 1871891495778470680: 33, 1872978591788881482: 144, 1989685320445148348: 349, 1996352594780507884: 36, 2055810009195309331: 37, 2157460938665527156: 37, 2286563893048866304: 28, 2300274679097142648: 28, 2305766456715991733: 319, 2335509695522126029: 40, 2372212476992240858: 91, 2382591782303281935: 48, 2396595853709741935: 23, 2438520924615884865: 76, 2457989834692826118: 44, 2458857792132229602: 46, 2570971451355530886: 68, 2712290788139738557: 34, 2754977819347976900: 30, 2772044537339378962: 40, 2808383095708030942: 93, 2854953699233970068: 58, 2885844202303657350: 23, 2910761286178294850: 214, 2963620995970323683: 30, 2965763330373426442: 23, 3001657979204168225: 66, 3054039476614586354: 31, 3086763691799539568: 40, 3108547117611136633: 24, 3119275309256631097: 30, 3185335471308803260: 50, 3198863056321683492: 182, 3302844784932242826: 23, 3322351381011335790: 34, 3337471580007169353: 527, 3357533074851319011: 37, 3371640160382097086: 86, 3378284981439931935: 71, 3383558428248432049: 93, 3396480256546172538: 24, 3416523485693578105: 26, 3447945165857834216: 30, 3488844663662468837: 65, 3511569580412335882: 39, 3521696259961091617: 252, 3583793367476243471: 27, 3610536745613892312: 293, 3702763154406545303: 26, 3776850235681345880: 28, 3788810404193836212: 61, 3794977356240836925: 28, 3886564097555913607: 28, 3890037538788212642: 33, 3911101470526499807: 32, 3929083066121281051: 78, 3933210228218775681: 24, 3940194724501792579: 256, 3992408608480173378: 42, 3999644780099400867: 28, 4027087623325135857: 49, 4125512737241598617: 28, 4135346488014272392: 24, 4148267947677649217: 146, 4257848154605915902: 148, 4270075519805190262: 24, 4355584874001078311: 33, 4374194959911938890: 51, 4379626023801207145: 78, 4422550408043590958: 76, 4448696399787217195: 48, 4451341302339403128: 23, 4462438115429287375: 43, 4488981949755449740: 119, 4540724666797253101: 85, 4541002331784686531: 87, 4581794435043716955: 59, 4613635923158598610: 42, 4623191541214045580: 778, 4675313264982714685: 87, 4705890939205361551: 188, 4713748699910253089: 376, 4827377269497927948: 115, 4878845046017202830: 24, 4882051544540389942: 23, 4889643542012934334: 32, 4899590676214355127: 36, 4904380712389161114: 69, 4906928148806627393: 36, 4933297437823212939: 32, 4946394964265008950: 27, 4980045449118619005: 33, 4998498972112971946: 49, 5034536472312079357: 28, 5151218799456449998: 58, 5152160705477623487: 42, 5178884875886952056: 38, 5180016769043519762: 34, 5241439681088310317: 115, 5267232243216900638: 111, 5274212389021166684: 38, 5286407814126402577: 57, 5350532170097222952: 30, 5385627414096171466: 55, 5444091050002420401: 110, 5530248251237125348: 78, 5571251285435914458: 31, 5609174282068681071: 64, 5613513604122480858: 23, 5666842752129979220: 31, 5670515820397086703: 50, 5726813107141430693: 29, 5858656528858890652: 62, 5996739817823449506: 289, 6095159615109306910: 35, 6124233129910171828: 36, 6220847999332178356: 32, 6234930871538147758: 79, 6264364458061685488: 92, 6304868067479728361: 1100, 6332565246182501322: 40, 6377824737203294106: 38, 6409684906747426257: 27, 6466924227312058704: 77, 6471112506130378186: 28, 6519468181324065430: 35, 6555247999328316726: 52, 6597983453793337280: 71, 6598157157289930061: 105, 6613527411922640441: 217, 6752579264606989757: 50, 6765073978511963806: 23, 6816703624957451132: 24, 6876075934773831748: 114, 6896533312053432206: 60, 6932517045703054087: 417, 6978673239862331477: 36, 6987317229889528118: 42, 7034504451802426444: 39, 7086945417901847497: 57, 7113166487901479566: 37, 7180866956895127482: 67, 7238309430968098875: 43, 7370834916791045057: 74, 7402609239155108606: 92, 7483596365340385091: 23, 7533706695269167589: 23, 7543879591140518446: 30, 7610224088593907423: 24, 7648005088289827166: 49, 7715560266990146782: 110, 7738058666231999878: 413, 7888067827493510326: 67, 7966323257643346287: 34, 7980064927529100411: 31, 7983179173107104735: 121, 8053023818678801687: 30, 8103761944629157683: 35, 8108540563489140541: 25, 8118046800480174342: 321, 8173190940950873857: 252, 8192783670889455257: 138, 8280727559464778830: 43, 8309980273750324949: 159, 8404240563510634678: 28, 8509969533334137079: 45, 8589195237831797368: 29, 8591672416652564856: 31, 8609077824896211910: 26, 8619840625096464102: 36, 8724480882975084132: 31, 8835108532520342368: 37, 8871118565162926421: 24, 8942553003070671545: 72, 8982013177812162195: 41, 9017197386870996739: 72, 9042325629112783008: 28, 9062652008385561368: 38, 9097760240767809307: 23, 9110248565804959041: 26, 9110347613146841473: 26, 9148362922061241421: 36, 9163988972649326428: 31, 9168350852884069895: 29, 9182444363400946277: 25, 9187990861085277398: 85, 9203989356000728141: 39}\n"
     ]
    }
   ],
   "source": [
    "# Identify other users with patterns similar to the anomalous user in group 246\n",
    "# Optimization: Calculate the number of cart and payment events per user directly\n",
    "cart_counts = cleaned_data[cleaned_data['event_name'] == 'CartScreenAppear'].groupby('user_id').size()\n",
    "payment_counts = cleaned_data[cleaned_data['event_name'] == 'PaymentScreenSuccessful'].groupby('user_id').size()\n",
    "\n",
    "# Calculate the threshold for events considered anomalous\n",
    "cart_threshold = cart_counts.mean() * 2\n",
    "payment_threshold = payment_counts.mean() * 2\n",
    "\n",
    "# Filter users who exceed both thresholds\n",
    "similar_users = cart_counts[(cart_counts > cart_threshold) & (payment_counts > payment_threshold)].to_dict()\n",
    "\n",
    "print(\"Users with similar anomalous activity:\")\n",
    "print(similar_users)"
   ]
  },
  {
   "cell_type": "markdown",
   "metadata": {},
   "source": [
    "## Users with Behavioral Patterns Similar to the Anomalous User\n",
    "\n",
    "A total of **279 users** were identified with patterns similar to the anomalous user (ID: 197027893265565660).  \n",
    "These users exhibit significantly high volumes of cart and payment events, suggesting anomalous behavior, possibly due to automation (bots) or bulk purchasing activity.\n",
    "\n",
    "### Examples of users with high activity:\n",
    "\n",
    "- User **4623191541214045580**: 778 cart events  \n",
    "- User **6304868067479728361**: 1,100 cart events  \n",
    "- User **1754140665440434215**: 596 cart events  \n",
    "- User **4713748699910253089**: 376 cart events  \n",
    "- User **1055544042902443290**: 379 cart events  \n",
    "\n",
    "---\n",
    "\n",
    "### Analysis:\n",
    "\n",
    "- The presence of many users with similar behavior suggests that the issue goes beyond a single isolated case.  \n",
    "- These users could be significantly skewing the results of control group 246 and may explain the significant differences observed between control groups.\n",
    "\n",
    "---\n",
    "\n",
    "### Next Steps:\n",
    "\n",
    "1. Remove these users and recalculate the control group analysis results.  \n",
    "2. Perform a thorough analysis of event distribution to detect other potential sources of bias."
   ]
  },
  {
   "cell_type": "code",
   "execution_count": 42,
   "metadata": {},
   "outputs": [
    {
     "data": {
      "text/html": [
       "<div>\n",
       "<style scoped>\n",
       "    .dataframe tbody tr th:only-of-type {\n",
       "        vertical-align: middle;\n",
       "    }\n",
       "\n",
       "    .dataframe tbody tr th {\n",
       "        vertical-align: top;\n",
       "    }\n",
       "\n",
       "    .dataframe thead th {\n",
       "        text-align: right;\n",
       "    }\n",
       "</style>\n",
       "<table border=\"1\" class=\"dataframe\">\n",
       "  <thead>\n",
       "    <tr style=\"text-align: right;\">\n",
       "      <th></th>\n",
       "      <th>event_name</th>\n",
       "      <th>user_id</th>\n",
       "      <th>timestamp</th>\n",
       "      <th>experiment_id</th>\n",
       "      <th>datetime</th>\n",
       "      <th>date</th>\n",
       "    </tr>\n",
       "  </thead>\n",
       "  <tbody>\n",
       "    <tr>\n",
       "      <th>2828</th>\n",
       "      <td>Tutorial</td>\n",
       "      <td>3737462046622621720</td>\n",
       "      <td>1564618048</td>\n",
       "      <td>246</td>\n",
       "      <td>2019-08-01 00:07:28</td>\n",
       "      <td>2019-08-01</td>\n",
       "    </tr>\n",
       "    <tr>\n",
       "      <th>2829</th>\n",
       "      <td>MainScreenAppear</td>\n",
       "      <td>3737462046622621720</td>\n",
       "      <td>1564618080</td>\n",
       "      <td>246</td>\n",
       "      <td>2019-08-01 00:08:00</td>\n",
       "      <td>2019-08-01</td>\n",
       "    </tr>\n",
       "    <tr>\n",
       "      <th>2830</th>\n",
       "      <td>MainScreenAppear</td>\n",
       "      <td>3737462046622621720</td>\n",
       "      <td>1564618135</td>\n",
       "      <td>246</td>\n",
       "      <td>2019-08-01 00:08:55</td>\n",
       "      <td>2019-08-01</td>\n",
       "    </tr>\n",
       "    <tr>\n",
       "      <th>2831</th>\n",
       "      <td>OffersScreenAppear</td>\n",
       "      <td>3737462046622621720</td>\n",
       "      <td>1564618138</td>\n",
       "      <td>246</td>\n",
       "      <td>2019-08-01 00:08:58</td>\n",
       "      <td>2019-08-01</td>\n",
       "    </tr>\n",
       "    <tr>\n",
       "      <th>2832</th>\n",
       "      <td>MainScreenAppear</td>\n",
       "      <td>1433840883824088890</td>\n",
       "      <td>1564618139</td>\n",
       "      <td>247</td>\n",
       "      <td>2019-08-01 00:08:59</td>\n",
       "      <td>2019-08-01</td>\n",
       "    </tr>\n",
       "    <tr>\n",
       "      <th>...</th>\n",
       "      <td>...</td>\n",
       "      <td>...</td>\n",
       "      <td>...</td>\n",
       "      <td>...</td>\n",
       "      <td>...</td>\n",
       "      <td>...</td>\n",
       "    </tr>\n",
       "    <tr>\n",
       "      <th>244121</th>\n",
       "      <td>MainScreenAppear</td>\n",
       "      <td>4599628364049201812</td>\n",
       "      <td>1565212345</td>\n",
       "      <td>247</td>\n",
       "      <td>2019-08-07 21:12:25</td>\n",
       "      <td>2019-08-07</td>\n",
       "    </tr>\n",
       "    <tr>\n",
       "      <th>244122</th>\n",
       "      <td>MainScreenAppear</td>\n",
       "      <td>5849806612437486590</td>\n",
       "      <td>1565212439</td>\n",
       "      <td>246</td>\n",
       "      <td>2019-08-07 21:13:59</td>\n",
       "      <td>2019-08-07</td>\n",
       "    </tr>\n",
       "    <tr>\n",
       "      <th>244123</th>\n",
       "      <td>MainScreenAppear</td>\n",
       "      <td>5746969938801999050</td>\n",
       "      <td>1565212483</td>\n",
       "      <td>246</td>\n",
       "      <td>2019-08-07 21:14:43</td>\n",
       "      <td>2019-08-07</td>\n",
       "    </tr>\n",
       "    <tr>\n",
       "      <th>244124</th>\n",
       "      <td>MainScreenAppear</td>\n",
       "      <td>5746969938801999050</td>\n",
       "      <td>1565212498</td>\n",
       "      <td>246</td>\n",
       "      <td>2019-08-07 21:14:58</td>\n",
       "      <td>2019-08-07</td>\n",
       "    </tr>\n",
       "    <tr>\n",
       "      <th>244125</th>\n",
       "      <td>OffersScreenAppear</td>\n",
       "      <td>5746969938801999050</td>\n",
       "      <td>1565212517</td>\n",
       "      <td>246</td>\n",
       "      <td>2019-08-07 21:15:17</td>\n",
       "      <td>2019-08-07</td>\n",
       "    </tr>\n",
       "  </tbody>\n",
       "</table>\n",
       "<p>190581 rows × 6 columns</p>\n",
       "</div>"
      ],
      "text/plain": [
       "                event_name              user_id   timestamp  experiment_id  \\\n",
       "2828              Tutorial  3737462046622621720  1564618048            246   \n",
       "2829      MainScreenAppear  3737462046622621720  1564618080            246   \n",
       "2830      MainScreenAppear  3737462046622621720  1564618135            246   \n",
       "2831    OffersScreenAppear  3737462046622621720  1564618138            246   \n",
       "2832      MainScreenAppear  1433840883824088890  1564618139            247   \n",
       "...                    ...                  ...         ...            ...   \n",
       "244121    MainScreenAppear  4599628364049201812  1565212345            247   \n",
       "244122    MainScreenAppear  5849806612437486590  1565212439            246   \n",
       "244123    MainScreenAppear  5746969938801999050  1565212483            246   \n",
       "244124    MainScreenAppear  5746969938801999050  1565212498            246   \n",
       "244125  OffersScreenAppear  5746969938801999050  1565212517            246   \n",
       "\n",
       "                  datetime        date  \n",
       "2828   2019-08-01 00:07:28  2019-08-01  \n",
       "2829   2019-08-01 00:08:00  2019-08-01  \n",
       "2830   2019-08-01 00:08:55  2019-08-01  \n",
       "2831   2019-08-01 00:08:58  2019-08-01  \n",
       "2832   2019-08-01 00:08:59  2019-08-01  \n",
       "...                    ...         ...  \n",
       "244121 2019-08-07 21:12:25  2019-08-07  \n",
       "244122 2019-08-07 21:13:59  2019-08-07  \n",
       "244123 2019-08-07 21:14:43  2019-08-07  \n",
       "244124 2019-08-07 21:14:58  2019-08-07  \n",
       "244125 2019-08-07 21:15:17  2019-08-07  \n",
       "\n",
       "[190581 rows x 6 columns]"
      ]
     },
     "metadata": {},
     "output_type": "display_data"
    },
    {
     "data": {
      "text/plain": [
       "event_name\n",
       "MainScreenAppear           37604\n",
       "OffersScreenAppear         13060\n",
       "CartScreenAppear            7429\n",
       "PaymentScreenSuccessful     5475\n",
       "Tutorial                     330\n",
       "Name: count, dtype: int64"
      ]
     },
     "execution_count": 42,
     "metadata": {},
     "output_type": "execute_result"
    }
   ],
   "source": [
    "# Eliminar los usuarios anómalos del conjunto de datos\n",
    "cleaned_data_v2 = cleaned_data[~cleaned_data['user_id'].isin(similar_users.keys())]\n",
    "\n",
    "# Grupos de control después de eliminar todos los usuarios anómalos\n",
    "group_246_cleaned_v2 = cleaned_data_v2[cleaned_data_v2['experiment_id'] == 246]['event_name'].value_counts()\n",
    "group_247_cleaned_v2 = cleaned_data_v2[cleaned_data_v2['experiment_id'] == 247]['event_name'].value_counts()\n",
    "\n",
    "display(cleaned_data_v2)\n",
    "group_246_cleaned_v2.head()\n",
    "group_247_cleaned_v2.head()"
   ]
  },
  {
   "cell_type": "code",
   "execution_count": 43,
   "metadata": {},
   "outputs": [
    {
     "name": "stdout",
     "output_type": "stream",
     "text": [
      "P-values after removing all anomalous users:\n",
      "{'MainScreenAppear': 2.7139977070138892e-06, 'OffersScreenAppear': 0.12240478361030453, 'CartScreenAppear': 3.608647046547823e-07, 'PaymentScreenSuccessful': 3.599777115450894e-06}\n"
     ]
    }
   ],
   "source": [
    "# Calculate the p-value for each event between the cleaned control groups (version 2)\n",
    "p_values_control_cleaned_v2 = {event: chi_square_test(group_246_cleaned_v2, group_247_cleaned_v2, event) for event in funnel_steps}\n",
    "\n",
    "print(\"P-values after removing all anomalous users:\")\n",
    "print(p_values_control_cleaned_v2)"
   ]
  },
  {
   "cell_type": "markdown",
   "metadata": {},
   "source": [
    "## Results after removing all anomalous users (279 users) from group 246:\n",
    "\n",
    "1. **MainScreenAppear**: p = 2.71 × 10⁻⁶ (significant)  \n",
    "2. **OffersScreenAppear**: p = 0.122 (not significant)  \n",
    "3. **CartScreenAppear**: p = 3.61 × 10⁻⁷ (significant)  \n",
    "4. **PaymentScreenSuccessful**: p = 3.60 × 10⁻⁶ (significant)  \n",
    "\n",
    "---\n",
    "\n",
    "### Interpretation:\n",
    "\n",
    "- Although removing the anomalous users significantly reduced the magnitude of p-values in some events (especially **OffersScreenAppear**), significant differences still persist in other events such as **MainScreenAppear**, **CartScreenAppear**, and **PaymentScreenSuccessful**.\n",
    "\n",
    "- This indicates that while the anomalous users contributed to the bias, they are not the sole cause of the discrepancies between the control groups."
   ]
  },
  {
   "cell_type": "code",
   "execution_count": 44,
   "metadata": {},
   "outputs": [
    {
     "name": "stdout",
     "output_type": "stream",
     "text": [
      "Compared event distribution:\n"
     ]
    },
    {
     "data": {
      "text/html": [
       "<div>\n",
       "<style scoped>\n",
       "    .dataframe tbody tr th:only-of-type {\n",
       "        vertical-align: middle;\n",
       "    }\n",
       "\n",
       "    .dataframe tbody tr th {\n",
       "        vertical-align: top;\n",
       "    }\n",
       "\n",
       "    .dataframe thead th {\n",
       "        text-align: right;\n",
       "    }\n",
       "</style>\n",
       "<table border=\"1\" class=\"dataframe\">\n",
       "  <thead>\n",
       "    <tr style=\"text-align: right;\">\n",
       "      <th></th>\n",
       "      <th>Control 246</th>\n",
       "      <th>Control 247</th>\n",
       "      <th>Difference</th>\n",
       "    </tr>\n",
       "    <tr>\n",
       "      <th>event_name</th>\n",
       "      <th></th>\n",
       "      <th></th>\n",
       "      <th></th>\n",
       "    </tr>\n",
       "  </thead>\n",
       "  <tbody>\n",
       "    <tr>\n",
       "      <th>MainScreenAppear</th>\n",
       "      <td>0.575371</td>\n",
       "      <td>0.588500</td>\n",
       "      <td>0.013129</td>\n",
       "    </tr>\n",
       "    <tr>\n",
       "      <th>CartScreenAppear</th>\n",
       "      <td>0.125679</td>\n",
       "      <td>0.116263</td>\n",
       "      <td>0.009416</td>\n",
       "    </tr>\n",
       "    <tr>\n",
       "      <th>PaymentScreenSuccessful</th>\n",
       "      <td>0.093189</td>\n",
       "      <td>0.085683</td>\n",
       "      <td>0.007506</td>\n",
       "    </tr>\n",
       "    <tr>\n",
       "      <th>OffersScreenAppear</th>\n",
       "      <td>0.200853</td>\n",
       "      <td>0.204388</td>\n",
       "      <td>0.003535</td>\n",
       "    </tr>\n",
       "    <tr>\n",
       "      <th>Tutorial</th>\n",
       "      <td>0.004907</td>\n",
       "      <td>0.005164</td>\n",
       "      <td>0.000257</td>\n",
       "    </tr>\n",
       "  </tbody>\n",
       "</table>\n",
       "</div>"
      ],
      "text/plain": [
       "                         Control 246  Control 247  Difference\n",
       "event_name                                                   \n",
       "MainScreenAppear            0.575371     0.588500    0.013129\n",
       "CartScreenAppear            0.125679     0.116263    0.009416\n",
       "PaymentScreenSuccessful     0.093189     0.085683    0.007506\n",
       "OffersScreenAppear          0.200853     0.204388    0.003535\n",
       "Tutorial                    0.004907     0.005164    0.000257"
      ]
     },
     "metadata": {},
     "output_type": "display_data"
    }
   ],
   "source": [
    "# In-depth analysis of event distribution in both control groups\n",
    "\n",
    "# Calculate the proportion of each event in each control group\n",
    "event_distribution_246 = group_246_cleaned_v2 / group_246_cleaned_v2.sum()\n",
    "event_distribution_247 = group_247_cleaned_v2 / group_247_cleaned_v2.sum()\n",
    "\n",
    "# Combine both distributions into a single DataFrame for comparison\n",
    "distribution_comparison = pd.DataFrame({\n",
    "    'Control 246': event_distribution_246,\n",
    "    'Control 247': event_distribution_247\n",
    "}).fillna(0)\n",
    "\n",
    "# Calculate the absolute difference between the proportions of the two groups\n",
    "distribution_comparison['Difference'] = (distribution_comparison['Control 246'] - distribution_comparison['Control 247']).abs()\n",
    "\n",
    "# Sort by the largest difference\n",
    "distribution_comparison = distribution_comparison.sort_values(by='Difference', ascending=False)\n",
    "\n",
    "print(\"Compared event distribution:\")\n",
    "display(distribution_comparison)"
   ]
  },
  {
   "cell_type": "markdown",
   "metadata": {},
   "source": [
    "### Interpretation:\n",
    "\n",
    "- The largest difference in event distribution between the control groups is observed in **MainScreenAppear** (1.31%).  \n",
    "- There is also a noticeable difference in **CartScreenAppear** (0.94%) and **PaymentScreenSuccessful** (0.75%).  \n",
    "- Although these differences may seem small in percentage terms, given the sample size (hundreds of thousands of events), they can be statistically significant.\n",
    "\n",
    "---\n",
    "\n",
    "### Conclusion:\n",
    "\n",
    "- Even after removing users with anomalous activity, small but significant differences in event distribution persist between the control groups.  \n",
    "- This suggests the issue may be related to external factors or usage conditions that affect the groups differently—beyond just the anomalous users."
   ]
  },
  {
   "cell_type": "code",
   "execution_count": 45,
   "metadata": {},
   "outputs": [
    {
     "data": {
      "image/png": "[encoded data removed]",
      "text/plain": [
       "<Figure size 1200x600 with 1 Axes>"
      ]
     },
     "metadata": {},
     "output_type": "display_data"
    }
   ],
   "source": [
    "# Temporal analysis: Event distribution by day for each control group\n",
    "\n",
    "# Count the number of events per date for each cleaned control group\n",
    "events_per_date_246_cleaned = cleaned_data_v2[cleaned_data_v2['experiment_id'] == 246]['date'].value_counts().sort_index()\n",
    "events_per_date_247_cleaned = cleaned_data_v2[cleaned_data_v2['experiment_id'] == 247]['date'].value_counts().sort_index()\n",
    "\n",
    "# Plot the event distribution by date for both control groups after cleaning\n",
    "plt.figure(figsize=(12, 6))\n",
    "plt.plot(events_per_date_246_cleaned, label='Control Group 246 (Cleaned)', marker='o')\n",
    "plt.plot(events_per_date_247_cleaned, label='Control Group 247 (Cleaned)', marker='x')\n",
    "plt.title('Temporal distribution of events by date in control groups (post-cleaning)')\n",
    "plt.xlabel('Date')\n",
    "plt.ylabel('Number of events')\n",
    "plt.legend()\n",
    "plt.xticks(rotation=45)\n",
    "plt.show()"
   ]
  },
  {
   "cell_type": "markdown",
   "metadata": {},
   "source": [
    "## Additional Factors to Investigate:\n",
    "\n",
    "1. **Geographic factors**: Check for regional differences in user behavior across groups.  \n",
    "2. **Temporal factors**: Analyze whether certain days or time slots show different behavior between groups.  \n",
    "3. **Device factors**: Evaluate whether the types of devices used differ significantly between groups.\n",
    "\n",
    "---\n",
    "\n",
    "## Temporal Analysis of Event Distribution by Date (After Removing Anomalous Users)\n",
    "\n",
    "The chart shows the event distribution in both control groups (246 and 247) after cleaning anomalous users.\n",
    "\n",
    "### Observations:\n",
    "\n",
    "- The overall trend of events over time remains very similar between both groups.  \n",
    "- Although there are slight variations on some days, there does not appear to be any significant temporal bias that would explain the observed differences."
   ]
  },
  {
   "cell_type": "code",
   "execution_count": 46,
   "metadata": {},
   "outputs": [
    {
     "data": {
      "image/png": "[encoded data removed]",
      "text/plain": [
       "<Figure size 800x500 with 1 Axes>"
      ]
     },
     "metadata": {},
     "output_type": "display_data"
    },
    {
     "name": "stdout",
     "output_type": "stream",
     "text": [
      "Unique devices - Control 246: 2396, Control 247: 2446\n"
     ]
    }
   ],
   "source": [
    "# Device analysis: Check for differences in devices used between control groups\n",
    "\n",
    "# Count the number of unique users (devices) per control group after cleaning\n",
    "devices_per_group_246 = cleaned_data_v2[cleaned_data_v2['experiment_id'] == 246]['user_id'].nunique()\n",
    "devices_per_group_247 = cleaned_data_v2[cleaned_data_v2['experiment_id'] == 247]['user_id'].nunique()\n",
    "\n",
    "# Create a bar chart to compare the number of unique devices in each control group\n",
    "plt.figure(figsize=(8, 5))\n",
    "plt.bar(['Control 246', 'Control 247'], [devices_per_group_246, devices_per_group_247], color=['blue', 'orange'])\n",
    "plt.title('Comparison of unique devices between control groups (post-cleaning)')\n",
    "plt.xlabel('Control Group')\n",
    "plt.ylabel('Number of unique devices')\n",
    "plt.show()\n",
    "\n",
    "print(f\"Unique devices - Control 246: {devices_per_group_246}, Control 247: {devices_per_group_247}\")"
   ]
  },
  {
   "cell_type": "markdown",
   "metadata": {},
   "source": [
    "## Device Analysis Between Control Groups (After Removing Anomalous Users)\n",
    "\n",
    "- **Control Group 246**: 2,396 unique devices  \n",
    "- **Control Group 247**: 2,446 unique devices  \n",
    "\n",
    "### Observations:\n",
    "\n",
    "- The number of unique devices is very similar between both groups, with a minimal difference of 50 devices.  \n",
    "- This small variation does not appear to be sufficient to explain the previously observed significant differences."
   ]
  },
  {
   "cell_type": "markdown",
   "metadata": {},
   "source": [
    "## Next Step:\n",
    "\n",
    "Obtain additional data to perform a **geographic analysis** and verify whether there are differences in the geographic distribution of users between the control groups."
   ]
  }
 ],
 "metadata": {
  "ExecuteTimeLog": [
   {
    "duration": 2703,
    "start_time": "2025-04-05T07:50:22.811Z"
   },
   {
    "duration": 581,
    "start_time": "2025-04-05T07:50:25.516Z"
   },
   {
    "duration": 137,
    "start_time": "2025-04-05T07:50:36.578Z"
   },
   {
    "duration": 3,
    "start_time": "2025-04-05T07:50:38.086Z"
   },
   {
    "duration": 48,
    "start_time": "2025-04-05T07:50:39.281Z"
   },
   {
    "duration": 8,
    "start_time": "2025-04-05T07:50:54.255Z"
   },
   {
    "duration": 3,
    "start_time": "2025-04-05T07:50:54.461Z"
   },
   {
    "duration": 5,
    "start_time": "2025-04-05T07:50:55.460Z"
   },
   {
    "duration": 189,
    "start_time": "2025-04-05T07:51:01.508Z"
   },
   {
    "duration": 47,
    "start_time": "2025-04-05T07:51:12.131Z"
   },
   {
    "duration": 7,
    "start_time": "2025-04-05T07:51:12.419Z"
   },
   {
    "duration": 18,
    "start_time": "2025-04-05T07:51:44.492Z"
   },
   {
    "duration": 38,
    "start_time": "2025-04-05T07:52:01.106Z"
   },
   {
    "duration": 4,
    "start_time": "2025-04-05T07:52:01.302Z"
   },
   {
    "duration": 4,
    "start_time": "2025-04-05T07:52:01.510Z"
   },
   {
    "duration": 4,
    "start_time": "2025-04-05T07:52:03.989Z"
   },
   {
    "duration": 3,
    "start_time": "2025-04-05T07:52:19.301Z"
   },
   {
    "duration": 8,
    "start_time": "2025-04-05T07:52:19.524Z"
   },
   {
    "duration": 18,
    "start_time": "2025-04-05T07:52:20.201Z"
   },
   {
    "duration": 40,
    "start_time": "2025-04-05T07:52:36.005Z"
   },
   {
    "duration": 527,
    "start_time": "2025-04-05T07:52:54.310Z"
   },
   {
    "duration": 65,
    "start_time": "2025-04-05T07:53:10.048Z"
   },
   {
    "duration": 7,
    "start_time": "2025-04-05T07:53:16.968Z"
   },
   {
    "duration": 6,
    "start_time": "2025-04-05T07:53:26.707Z"
   },
   {
    "duration": 31,
    "start_time": "2025-04-05T07:53:27.903Z"
   },
   {
    "duration": 7,
    "start_time": "2025-04-05T07:53:29.355Z"
   },
   {
    "duration": 36,
    "start_time": "2025-04-05T07:53:31.065Z"
   },
   {
    "duration": 38,
    "start_time": "2025-04-05T07:53:33.866Z"
   },
   {
    "duration": 7,
    "start_time": "2025-04-05T07:53:34.703Z"
   },
   {
    "duration": 8,
    "start_time": "2025-04-05T07:53:35.777Z"
   },
   {
    "duration": 201,
    "start_time": "2025-04-05T07:53:37.077Z"
   },
   {
    "duration": 100,
    "start_time": "2025-04-05T07:53:38.308Z"
   }
  ],
  "kernelspec": {
   "display_name": "base",
   "language": "python",
   "name": "python3"
  },
  "language_info": {
   "codemirror_mode": {
    "name": "ipython",
    "version": 3
   },
   "file_extension": ".py",
   "mimetype": "text/x-python",
   "name": "python",
   "nbconvert_exporter": "python",
   "pygments_lexer": "ipython3",
   "version": "3.12.2"
  },
  "toc": {
   "base_numbering": 1,
   "nav_menu": {},
   "number_sections": true,
   "sideBar": true,
   "skip_h1_title": true,
   "title_cell": "Table of Contents",
   "title_sidebar": "Contents",
   "toc_cell": false,
   "toc_position": {},
   "toc_section_display": true,
   "toc_window_display": false
  }
 },
 "nbformat": 4,
 "nbformat_minor": 2
}
